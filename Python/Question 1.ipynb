{
 "cells": [
  {
   "cell_type": "markdown",
   "id": "5df30a21",
   "metadata": {},
   "source": [
    "### Importing libraries"
   ]
  },
  {
   "cell_type": "code",
   "execution_count": 1,
   "id": "ae097751",
   "metadata": {},
   "outputs": [],
   "source": [
    "import pandas as pd\n",
    "import numpy as np\n",
    "import matplotlib.pyplot as plt\n",
    "import seaborn as sns"
   ]
  },
  {
   "cell_type": "markdown",
   "id": "17e0ec42",
   "metadata": {},
   "source": [
    "### Importing and Exploring the dataset"
   ]
  },
  {
   "cell_type": "code",
   "execution_count": 3,
   "id": "78083d21",
   "metadata": {},
   "outputs": [
    {
     "data": {
      "text/html": [
       "<div>\n",
       "<style scoped>\n",
       "    .dataframe tbody tr th:only-of-type {\n",
       "        vertical-align: middle;\n",
       "    }\n",
       "\n",
       "    .dataframe tbody tr th {\n",
       "        vertical-align: top;\n",
       "    }\n",
       "\n",
       "    .dataframe thead th {\n",
       "        text-align: right;\n",
       "    }\n",
       "</style>\n",
       "<table border=\"1\" class=\"dataframe\">\n",
       "  <thead>\n",
       "    <tr style=\"text-align: right;\">\n",
       "      <th></th>\n",
       "      <th>Unnamed: 0</th>\n",
       "      <th>Year</th>\n",
       "      <th>Month</th>\n",
       "      <th>DayofMonth</th>\n",
       "      <th>DayOfWeek</th>\n",
       "      <th>DepTime</th>\n",
       "      <th>CRSDepTime</th>\n",
       "      <th>ArrTime</th>\n",
       "      <th>CRSArrTime</th>\n",
       "      <th>UniqueCarrier</th>\n",
       "      <th>...</th>\n",
       "      <th>Distance</th>\n",
       "      <th>TaxiIn</th>\n",
       "      <th>TaxiOut</th>\n",
       "      <th>Cancelled</th>\n",
       "      <th>Diverted</th>\n",
       "      <th>CarrierDelay</th>\n",
       "      <th>WeatherDelay</th>\n",
       "      <th>NASDelay</th>\n",
       "      <th>SecurityDelay</th>\n",
       "      <th>LateAircraftDelay</th>\n",
       "    </tr>\n",
       "  </thead>\n",
       "  <tbody>\n",
       "    <tr>\n",
       "      <th>0</th>\n",
       "      <td>0</td>\n",
       "      <td>2006</td>\n",
       "      <td>1</td>\n",
       "      <td>11</td>\n",
       "      <td>3</td>\n",
       "      <td>743.0</td>\n",
       "      <td>745</td>\n",
       "      <td>1024.0</td>\n",
       "      <td>1018</td>\n",
       "      <td>US</td>\n",
       "      <td>...</td>\n",
       "      <td>1587</td>\n",
       "      <td>45</td>\n",
       "      <td>13</td>\n",
       "      <td>0</td>\n",
       "      <td>0</td>\n",
       "      <td>0</td>\n",
       "      <td>0</td>\n",
       "      <td>0</td>\n",
       "      <td>0</td>\n",
       "      <td>0</td>\n",
       "    </tr>\n",
       "    <tr>\n",
       "      <th>1</th>\n",
       "      <td>1</td>\n",
       "      <td>2006</td>\n",
       "      <td>1</td>\n",
       "      <td>11</td>\n",
       "      <td>3</td>\n",
       "      <td>1053.0</td>\n",
       "      <td>1053</td>\n",
       "      <td>1313.0</td>\n",
       "      <td>1318</td>\n",
       "      <td>US</td>\n",
       "      <td>...</td>\n",
       "      <td>1587</td>\n",
       "      <td>27</td>\n",
       "      <td>19</td>\n",
       "      <td>0</td>\n",
       "      <td>0</td>\n",
       "      <td>0</td>\n",
       "      <td>0</td>\n",
       "      <td>0</td>\n",
       "      <td>0</td>\n",
       "      <td>0</td>\n",
       "    </tr>\n",
       "    <tr>\n",
       "      <th>2</th>\n",
       "      <td>2</td>\n",
       "      <td>2006</td>\n",
       "      <td>1</td>\n",
       "      <td>11</td>\n",
       "      <td>3</td>\n",
       "      <td>1915.0</td>\n",
       "      <td>1915</td>\n",
       "      <td>2110.0</td>\n",
       "      <td>2133</td>\n",
       "      <td>US</td>\n",
       "      <td>...</td>\n",
       "      <td>1587</td>\n",
       "      <td>4</td>\n",
       "      <td>11</td>\n",
       "      <td>0</td>\n",
       "      <td>0</td>\n",
       "      <td>0</td>\n",
       "      <td>0</td>\n",
       "      <td>0</td>\n",
       "      <td>0</td>\n",
       "      <td>0</td>\n",
       "    </tr>\n",
       "    <tr>\n",
       "      <th>3</th>\n",
       "      <td>3</td>\n",
       "      <td>2006</td>\n",
       "      <td>1</td>\n",
       "      <td>11</td>\n",
       "      <td>3</td>\n",
       "      <td>1753.0</td>\n",
       "      <td>1755</td>\n",
       "      <td>1925.0</td>\n",
       "      <td>1933</td>\n",
       "      <td>US</td>\n",
       "      <td>...</td>\n",
       "      <td>872</td>\n",
       "      <td>16</td>\n",
       "      <td>10</td>\n",
       "      <td>0</td>\n",
       "      <td>0</td>\n",
       "      <td>0</td>\n",
       "      <td>0</td>\n",
       "      <td>0</td>\n",
       "      <td>0</td>\n",
       "      <td>0</td>\n",
       "    </tr>\n",
       "    <tr>\n",
       "      <th>4</th>\n",
       "      <td>4</td>\n",
       "      <td>2006</td>\n",
       "      <td>1</td>\n",
       "      <td>11</td>\n",
       "      <td>3</td>\n",
       "      <td>824.0</td>\n",
       "      <td>832</td>\n",
       "      <td>1015.0</td>\n",
       "      <td>1015</td>\n",
       "      <td>US</td>\n",
       "      <td>...</td>\n",
       "      <td>872</td>\n",
       "      <td>27</td>\n",
       "      <td>12</td>\n",
       "      <td>0</td>\n",
       "      <td>0</td>\n",
       "      <td>0</td>\n",
       "      <td>0</td>\n",
       "      <td>0</td>\n",
       "      <td>0</td>\n",
       "      <td>0</td>\n",
       "    </tr>\n",
       "  </tbody>\n",
       "</table>\n",
       "<p>5 rows × 29 columns</p>\n",
       "</div>"
      ],
      "text/plain": [
       "   Unnamed: 0  Year  Month  DayofMonth  DayOfWeek  DepTime  CRSDepTime  \\\n",
       "0           0  2006      1          11          3    743.0         745   \n",
       "1           1  2006      1          11          3   1053.0        1053   \n",
       "2           2  2006      1          11          3   1915.0        1915   \n",
       "3           3  2006      1          11          3   1753.0        1755   \n",
       "4           4  2006      1          11          3    824.0         832   \n",
       "\n",
       "   ArrTime  CRSArrTime UniqueCarrier  ...  Distance TaxiIn  TaxiOut  \\\n",
       "0   1024.0        1018            US  ...      1587     45       13   \n",
       "1   1313.0        1318            US  ...      1587     27       19   \n",
       "2   2110.0        2133            US  ...      1587      4       11   \n",
       "3   1925.0        1933            US  ...       872     16       10   \n",
       "4   1015.0        1015            US  ...       872     27       12   \n",
       "\n",
       "   Cancelled  Diverted  CarrierDelay  WeatherDelay NASDelay SecurityDelay  \\\n",
       "0          0         0             0             0        0             0   \n",
       "1          0         0             0             0        0             0   \n",
       "2          0         0             0             0        0             0   \n",
       "3          0         0             0             0        0             0   \n",
       "4          0         0             0             0        0             0   \n",
       "\n",
       "   LateAircraftDelay  \n",
       "0                  0  \n",
       "1                  0  \n",
       "2                  0  \n",
       "3                  0  \n",
       "4                  0  \n",
       "\n",
       "[5 rows x 29 columns]"
      ]
     },
     "execution_count": 3,
     "metadata": {},
     "output_type": "execute_result"
    }
   ],
   "source": [
    "df = pd.read_csv(\"cleaned_dataset.csv\")\n",
    "df.head()"
   ]
  },
  {
   "cell_type": "code",
   "execution_count": 4,
   "id": "d950d298",
   "metadata": {},
   "outputs": [
    {
     "data": {
      "text/plain": [
       "(14268928, 29)"
      ]
     },
     "execution_count": 4,
     "metadata": {},
     "output_type": "execute_result"
    }
   ],
   "source": [
    "df.shape"
   ]
  },
  {
   "cell_type": "code",
   "execution_count": 2,
   "id": "aebecc8f",
   "metadata": {},
   "outputs": [],
   "source": [
    "#setting color map for visualisations\n",
    "my_cmap = sns.color_palette(\"YlGnBu\")"
   ]
  },
  {
   "cell_type": "markdown",
   "id": "35d82906",
   "metadata": {},
   "source": [
    "### When is the best time of day, day of the week, and time of year to fly to minimise delays?"
   ]
  },
  {
   "cell_type": "code",
   "execution_count": 5,
   "id": "17caab8a",
   "metadata": {},
   "outputs": [
    {
     "data": {
      "text/html": [
       "<div>\n",
       "<style scoped>\n",
       "    .dataframe tbody tr th:only-of-type {\n",
       "        vertical-align: middle;\n",
       "    }\n",
       "\n",
       "    .dataframe tbody tr th {\n",
       "        vertical-align: top;\n",
       "    }\n",
       "\n",
       "    .dataframe thead th {\n",
       "        text-align: right;\n",
       "    }\n",
       "</style>\n",
       "<table border=\"1\" class=\"dataframe\">\n",
       "  <thead>\n",
       "    <tr style=\"text-align: right;\">\n",
       "      <th></th>\n",
       "      <th>Year</th>\n",
       "      <th>Month</th>\n",
       "      <th>DayofMonth</th>\n",
       "      <th>DayOfWeek</th>\n",
       "      <th>DepTime</th>\n",
       "      <th>ArrDelay</th>\n",
       "    </tr>\n",
       "  </thead>\n",
       "  <tbody>\n",
       "    <tr>\n",
       "      <th>0</th>\n",
       "      <td>2006</td>\n",
       "      <td>1</td>\n",
       "      <td>11</td>\n",
       "      <td>3</td>\n",
       "      <td>743.0</td>\n",
       "      <td>6.0</td>\n",
       "    </tr>\n",
       "    <tr>\n",
       "      <th>1</th>\n",
       "      <td>2006</td>\n",
       "      <td>1</td>\n",
       "      <td>11</td>\n",
       "      <td>3</td>\n",
       "      <td>1053.0</td>\n",
       "      <td>-5.0</td>\n",
       "    </tr>\n",
       "    <tr>\n",
       "      <th>2</th>\n",
       "      <td>2006</td>\n",
       "      <td>1</td>\n",
       "      <td>11</td>\n",
       "      <td>3</td>\n",
       "      <td>1915.0</td>\n",
       "      <td>-23.0</td>\n",
       "    </tr>\n",
       "    <tr>\n",
       "      <th>3</th>\n",
       "      <td>2006</td>\n",
       "      <td>1</td>\n",
       "      <td>11</td>\n",
       "      <td>3</td>\n",
       "      <td>1753.0</td>\n",
       "      <td>-8.0</td>\n",
       "    </tr>\n",
       "    <tr>\n",
       "      <th>4</th>\n",
       "      <td>2006</td>\n",
       "      <td>1</td>\n",
       "      <td>11</td>\n",
       "      <td>3</td>\n",
       "      <td>824.0</td>\n",
       "      <td>0.0</td>\n",
       "    </tr>\n",
       "  </tbody>\n",
       "</table>\n",
       "</div>"
      ],
      "text/plain": [
       "   Year  Month  DayofMonth  DayOfWeek  DepTime  ArrDelay\n",
       "0  2006      1          11          3    743.0       6.0\n",
       "1  2006      1          11          3   1053.0      -5.0\n",
       "2  2006      1          11          3   1915.0     -23.0\n",
       "3  2006      1          11          3   1753.0      -8.0\n",
       "4  2006      1          11          3    824.0       0.0"
      ]
     },
     "execution_count": 5,
     "metadata": {},
     "output_type": "execute_result"
    }
   ],
   "source": [
    "#A seperate dataframe with only the necessary columns for the question\n",
    "\n",
    "q1 = df.loc[:, ['Year', 'Month', 'DayofMonth', 'DayOfWeek','DepTime','ArrDelay']]\n",
    "q1.head()"
   ]
  },
  {
   "cell_type": "code",
   "execution_count": 6,
   "id": "d0717554",
   "metadata": {},
   "outputs": [],
   "source": [
    "#arrival delays will be used in the all delay analyses\n",
    "#only planes with a delay more than 0 mins will be considered as a delayed plane\n",
    "\n",
    "q1 = q1[q1[\"ArrDelay\"]>0]"
   ]
  },
  {
   "cell_type": "markdown",
   "id": "e03cae89",
   "metadata": {},
   "source": [
    "What is the best time of day?"
   ]
  },
  {
   "cell_type": "code",
   "execution_count": 7,
   "id": "da41555c",
   "metadata": {},
   "outputs": [
    {
     "data": {
      "text/plain": [
       "Timeframe\n",
       "6am - 12pm    20.181754\n",
       "12pm - 6pm    30.184636\n",
       "6pm - 12am    44.944905\n",
       "12am - 6am    51.259843\n",
       "Name: ArrDelay, dtype: float64"
      ]
     },
     "execution_count": 7,
     "metadata": {},
     "output_type": "execute_result"
    }
   ],
   "source": [
    "#Creating timeframes according to the departure time\n",
    "\n",
    "q1[\"Timeframe\"] = q1[\"DepTime\"].apply(lambda x: \n",
    "                                     \"12am - 6am\" if x<600 else (\n",
    "                                     \"6am - 12pm\" if x>=600 and x<1200 else(\n",
    "                                     \"12pm - 6pm\" if x>=1200 and x<1800 else(\n",
    "                                     \"6pm - 12am\" if x>=1800 and x<=2359))))\n",
    "\n",
    "q1.groupby([\"Timeframe\"])[\"ArrDelay\"].mean().sort_values()"
   ]
  },
  {
   "cell_type": "code",
   "execution_count": null,
   "id": "36bd5678",
   "metadata": {},
   "outputs": [],
   "source": [
    "#The timeframe between 6am - 12noon is the best time to fly"
   ]
  },
  {
   "cell_type": "code",
   "execution_count": null,
   "id": "459a5384",
   "metadata": {},
   "outputs": [],
   "source": [
    "# Pie Plot\n",
    "fig, ax = plt.subplots(1, 1, figsize = (8, 8))\n",
    "\n",
    "ax.pie(q1.groupby(\"Timeframe\")[\"ArrDelay\"].mean(),\n",
    "         labels = [\"12am-6am\",\"12pm-6pm\", \"6am-12pm\", \"6pm-12am\"],\n",
    "         autopct='%1.2f%%',\n",
    "         colors= my_cmap,\n",
    "         textprops={'fontsize': 15})\n",
    "\n",
    "ax.set_title(\"Delays in different Timeframes\",\n",
    "                size = 18)\n",
    "\n",
    "plt.savefig(\"Delays in different timeframes.png\")\n",
    "plt.show()"
   ]
  },
  {
   "cell_type": "markdown",
   "id": "40d9e6da",
   "metadata": {},
   "source": [
    "What is the best day of the week"
   ]
  },
  {
   "cell_type": "code",
   "execution_count": 13,
   "id": "5c7ad07a",
   "metadata": {},
   "outputs": [
    {
     "data": {
      "text/plain": [
       "DayOfWeek\n",
       "6    28.150387\n",
       "2    29.537804\n",
       "3    30.972443\n",
       "7    31.391195\n",
       "1    31.549142\n",
       "5    33.140775\n",
       "4    33.392793\n",
       "Name: ArrDelay, dtype: float64"
      ]
     },
     "execution_count": 13,
     "metadata": {},
     "output_type": "execute_result"
    }
   ],
   "source": [
    "q1.groupby([\"DayOfWeek\"])[\"ArrDelay\"].mean().sort_values()\n",
    "#Saturday is the best day to fly"
   ]
  },
  {
   "cell_type": "code",
   "execution_count": 15,
   "id": "89467079",
   "metadata": {},
   "outputs": [
    {
     "data": {
      "image/png": "[encoded data removed]",
      "text/plain": [
       "<Figure size 576x576 with 1 Axes>"
      ]
     },
     "metadata": {
      "needs_background": "light"
     },
     "output_type": "display_data"
    }
   ],
   "source": [
    "# Bar Plot to show delayed flights according to Day of Week\n",
    "fig, ax = plt.subplots(1, 1, figsize = (8, 8))\n",
    "\n",
    "sns.barplot(x= \"DayOfWeek\", y = \"ArrDelay\", data = q1, \n",
    "           palette = my_cmap)\n",
    "\n",
    "ax.set_ylabel(\"Day of Week\",\n",
    "               size = 15)\n",
    "\n",
    "ax.set_xlabel('Average Delay (in Minutes)',\n",
    "                 size = 15)\n",
    "\n",
    "ax.set_title(\"Flight Delays according to the Day of Week\",\n",
    "                size = 18)\n",
    "\n",
    "ax.tick_params(axis='y', labelsize=13)\n",
    "ax.tick_params(axis='x', labelsize=13)\n",
    "\n",
    "ax.spines[\"right\"].set_visible(False)\n",
    "ax.spines[\"top\"].set_visible(False)\n",
    "\n",
    "plt.savefig(\"Delayed Flights according to Day.png\")\n",
    "plt.show()\n"
   ]
  },
  {
   "cell_type": "markdown",
   "id": "98ed626b",
   "metadata": {},
   "source": [
    "What is the best time of the year to fly"
   ]
  },
  {
   "cell_type": "code",
   "execution_count": 16,
   "id": "7245612a",
   "metadata": {},
   "outputs": [
    {
     "data": {
      "text/plain": [
       "TimeofYear\n",
       "Fall      28.866053\n",
       "Spring    29.275795\n",
       "Winter    32.221277\n",
       "Summer    34.495267\n",
       "Name: ArrDelay, dtype: float64"
      ]
     },
     "execution_count": 16,
     "metadata": {},
     "output_type": "execute_result"
    }
   ],
   "source": [
    "#Analysing the time of the year season wise. \n",
    "q1[\"TimeofYear\"] = q1[\"Month\"].apply(lambda x: \n",
    "                                     \"Spring\" if x>=3 and x<=5 else (\n",
    "                                     \"Summer\" if x>=6 and x<=8 else(\n",
    "                                     \"Fall\" if x>=9 and x<=11 else \"Winter\")))\n",
    "\n",
    "q1.groupby([\"TimeofYear\"])[\"ArrDelay\"].mean().sort_values()\n",
    "#Fall is the best season to minimise delays"
   ]
  },
  {
   "cell_type": "code",
   "execution_count": 17,
   "id": "03b29f79",
   "metadata": {},
   "outputs": [
    {
     "data": {
      "text/plain": [
       "Month\n",
       "11    28.054863\n",
       "5     28.175849\n",
       "9     28.791311\n",
       "4     28.872843\n",
       "1     29.537914\n",
       "10    29.646670\n",
       "3     30.682532\n",
       "2     31.640476\n",
       "8     32.693271\n",
       "7     34.881240\n",
       "12    34.953670\n",
       "6     35.851371\n",
       "Name: ArrDelay, dtype: float64"
      ]
     },
     "execution_count": 17,
     "metadata": {},
     "output_type": "execute_result"
    }
   ],
   "source": [
    "q1.groupby([\"Month\"])[\"ArrDelay\"].mean().sort_values()\n",
    "#November is the best month to fly"
   ]
  },
  {
   "cell_type": "code",
   "execution_count": 21,
   "id": "dd156638",
   "metadata": {},
   "outputs": [
    {
     "data": {
      "image/png": "[encoded data removed]",
      "text/plain": [
       "<Figure size 576x576 with 1 Axes>"
      ]
     },
     "metadata": {
      "needs_background": "light"
     },
     "output_type": "display_data"
    }
   ],
   "source": [
    "# Bar Plot to show delayed flights according to months\n",
    "fig, ax = plt.subplots(1, 1, figsize = (8, 8))\n",
    "\n",
    "\n",
    "ax.barh([\"Jan\",\"Feb\",\"Mar\",\"Apr\",\"May\",\"Jun\",\"Jul\",\"Aug\",\"Sep\",\"Oct\",\"Nov\",\"Dec\"],  \n",
    "          q1.groupby([\"Month\"])[\"ArrDelay\"].mean(), \n",
    "          color = my_cmap)\n",
    "\n",
    "ax.set_ylabel('Month',\n",
    "               size = 15)\n",
    "\n",
    "ax.set_xlabel('Average Delay (in Minutes)',\n",
    "                 size = 15)\n",
    "\n",
    "ax.set_title(\"Flight Delays according to the month\",\n",
    "                size = 18)\n",
    "\n",
    "ax.tick_params(axis='y', labelsize=13)\n",
    "ax.tick_params(axis='x', labelsize=13)\n",
    "\n",
    "ax.spines[\"right\"].set_visible(False)\n",
    "ax.spines[\"top\"].set_visible(False)\n",
    "\n",
    "plt.savefig(\"Delayed Flights according to Month.png\")\n",
    "plt.show()\n"
   ]
  },
  {
   "cell_type": "code",
   "execution_count": null,
   "id": "1cfbe252",
   "metadata": {},
   "outputs": [],
   "source": []
  },
  {
   "cell_type": "code",
   "execution_count": null,
   "id": "56fe0c30",
   "metadata": {},
   "outputs": [],
   "source": []
  }
 ],
 "metadata": {
  "kernelspec": {
   "display_name": "Python 3",
   "language": "python",
   "name": "python3"
  },
  "language_info": {
   "codemirror_mode": {
    "name": "ipython",
    "version": 3
   },
   "file_extension": ".py",
   "mimetype": "text/x-python",
   "name": "python",
   "nbconvert_exporter": "python",
   "pygments_lexer": "ipython3",
   "version": "3.8.8"
  }
 },
 "nbformat": 4,
 "nbformat_minor": 5
}

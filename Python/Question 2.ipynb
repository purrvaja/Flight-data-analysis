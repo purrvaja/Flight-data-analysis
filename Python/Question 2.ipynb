{
 "cells": [
  {
   "cell_type": "markdown",
   "id": "b7c93d6e",
   "metadata": {},
   "source": [
    "### Importing Libraries"
   ]
  },
  {
   "cell_type": "code",
   "execution_count": 2,
   "id": "7837f00d",
   "metadata": {},
   "outputs": [],
   "source": [
    "import pandas as pd\n",
    "import numpy as np\n",
    "import matplotlib.pyplot as plt\n",
    "import seaborn as sns\n"
   ]
  },
  {
   "cell_type": "markdown",
   "id": "ef81e47a",
   "metadata": {},
   "source": [
    "### Importing the datasets and additional cleaning"
   ]
  },
  {
   "cell_type": "code",
   "execution_count": 4,
   "id": "e10bcc0f",
   "metadata": {},
   "outputs": [],
   "source": [
    "df_cleaned = pd.read_csv(\"Dataset/cleaned_dataset.csv\")\n",
    "df_planes = pd.read_csv(\"Dataset/plane-data.csv\")"
   ]
  },
  {
   "cell_type": "code",
   "execution_count": 5,
   "id": "8648b455",
   "metadata": {},
   "outputs": [],
   "source": [
    "#keeping only necessary columns\n",
    "\n",
    "#df_planes\n",
    "df_planes = df_planes.rename({'tailnum':'TailNum', 'year': 'Manu_year'}, axis = 1)\n",
    "df_planes = df_planes.iloc[:, np.array([0,8])]\n",
    "\n",
    "#df_cleaned\n",
    "df_cleaned = df_cleaned.iloc[:,np.array([1,2,3,4,5,11,15])]"
   ]
  },
  {
   "cell_type": "code",
   "execution_count": 6,
   "id": "92db964b",
   "metadata": {},
   "outputs": [
    {
     "data": {
      "text/plain": [
       "(12611605, 8)"
      ]
     },
     "execution_count": 6,
     "metadata": {},
     "output_type": "execute_result"
    }
   ],
   "source": [
    "#Merge both dataframes based on TailNum \n",
    "\n",
    "q2 = pd.merge(df_cleaned, df_planes, how = \"inner\", on = \"TailNum\")\n",
    "q2.shape"
   ]
  },
  {
   "cell_type": "code",
   "execution_count": null,
   "id": "e3e8fec8",
   "metadata": {},
   "outputs": [],
   "source": [
    "#Checking the \"year\" column and removing null values along with values such as 0000 and None that is not useful for computation\n",
    "\n",
    "q2.dropna(inplace = True)\n",
    "q2 = q2[(q2[\"Manu_year\"] != \"0000\") & (q2[\"Manu_year\"] != \"None\")]\n",
    "\n",
    "q2.isnull().sum()"
   ]
  },
  {
   "cell_type": "code",
   "execution_count": null,
   "id": "b377cdfb",
   "metadata": {},
   "outputs": [],
   "source": [
    "#filter the Arrival delays to be greater than 0\n",
    "q2 = q2[q2[\"ArrDelay\"] >0] "
   ]
  },
  {
   "cell_type": "markdown",
   "id": "b4fa315a",
   "metadata": {},
   "source": [
    "### Do Older planes suffer more delays?"
   ]
  },
  {
   "cell_type": "code",
   "execution_count": null,
   "id": "b9c042e5",
   "metadata": {},
   "outputs": [],
   "source": [
    "#calculate the age of the plane = Year - Manu_year\n",
    "\n",
    "q2[\"age\"] = q2[\"Year\"] - q2[\"Manu_year\"].astype(int)\n",
    "q2[\"age\"].value_counts()"
   ]
  },
  {
   "cell_type": "code",
   "execution_count": null,
   "id": "bcd63440",
   "metadata": {},
   "outputs": [],
   "source": [
    "#age column has a value with -1 ---> remove that\n",
    "q2 = q2[q2[\"age\"] != -1]"
   ]
  },
  {
   "cell_type": "code",
   "execution_count": null,
   "id": "dace0219",
   "metadata": {},
   "outputs": [],
   "source": [
    "#plot the relationship between age and average delays \n",
    "\n",
    "sns.lmplot(x=\"age\", y=\"ArrDelay\", data=grouped_mean_age,\n",
    "          aspect = 2, height = 4, palette = \"YlGnBu\")\n",
    "\n",
    "\n",
    "plt.title(\"Flight Delays according to age\",\n",
    "                size = 18)\n",
    "plt.xticks(fontsize =13)\n",
    "plt.yticks(fontsize =13)\n",
    "\n",
    "plt.xlabel(\"Age\", fontsize = 15)\n",
    "plt.ylabel(\"ArrDelay\", fontsize = 15)\n",
    "\n",
    "\n",
    "plt.savefig(\"Figures/Delayed Flights according to Day.png\")\n",
    "plt.show()\n"
   ]
  },
  {
   "cell_type": "code",
   "execution_count": null,
   "id": "e3811167",
   "metadata": {},
   "outputs": [],
   "source": [
    "#Average delays for old and new planes\n",
    "\n",
    "print(\"Avg. Delay of old planes:\", q2[q2[\"age\"]>30][\"ArrDelay\"].mean()) \n",
    "print(\"Avg. Delay of new planes:\", q2[q2[\"age\"]<=30][\"ArrDelay\"].mean())"
   ]
  },
  {
   "cell_type": "code",
   "execution_count": null,
   "id": "11068060",
   "metadata": {},
   "outputs": [],
   "source": []
  }
 ],
 "metadata": {
  "kernelspec": {
   "display_name": "Python 3",
   "language": "python",
   "name": "python3"
  },
  "language_info": {
   "codemirror_mode": {
    "name": "ipython",
    "version": 3
   },
   "file_extension": ".py",
   "mimetype": "text/x-python",
   "name": "python",
   "nbconvert_exporter": "python",
   "pygments_lexer": "ipython3",
   "version": "3.8.8"
  }
 },
 "nbformat": 4,
 "nbformat_minor": 5
}

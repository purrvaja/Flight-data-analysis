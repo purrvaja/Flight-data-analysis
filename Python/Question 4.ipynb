{
 "cells": [
  {
   "cell_type": "markdown",
   "id": "3a0df7c8",
   "metadata": {},
   "source": [
    "### Importing Libraries"
   ]
  },
  {
   "cell_type": "code",
   "execution_count": 1,
   "id": "a5f4efb7",
   "metadata": {},
   "outputs": [],
   "source": [
    "import pandas as pd\n",
    "import numpy as np\n",
    "import matplotlib.pyplot as plt\n",
    "import seaborn as sns\n",
    "\n",
    "import scipy.stats as stats\n",
    "from scipy.stats import chi2_contingency"
   ]
  },
  {
   "cell_type": "markdown",
   "id": "84c9d782",
   "metadata": {},
   "source": [
    "### Importing dataset and selecting necessary variables"
   ]
  },
  {
   "cell_type": "code",
   "execution_count": 2,
   "id": "91a33069",
   "metadata": {},
   "outputs": [],
   "source": [
    "df = pd.read_csv(\"Dataset/cleaned_dataset.csv\")"
   ]
  },
  {
   "cell_type": "code",
   "execution_count": 4,
   "id": "932e6629",
   "metadata": {},
   "outputs": [],
   "source": [
    "q4 = df.loc[:, [\"Year\", \"Month\", \"DayofMonth\", \"DayOfWeek\",\"DepTime\", \"TailNum\", \"ArrDelay\",\n",
    "            \"Origin\", \"Dest\",\"LateAircraftDelay\"]]"
   ]
  },
  {
   "cell_type": "markdown",
   "id": "72224c2c",
   "metadata": {},
   "source": [
    "### Can you detect cascading delays as delays in one airport create delays in others"
   ]
  },
  {
   "cell_type": "markdown",
   "id": "93854748",
   "metadata": {},
   "source": [
    "*Converting to datetime*"
   ]
  },
  {
   "cell_type": "code",
   "execution_count": 5,
   "id": "13180f47",
   "metadata": {},
   "outputs": [],
   "source": [
    "#extracting the minutes\n",
    "mins = q4[\"DepTime\"].apply(lambda x: x%10**2)\n",
    "mins =mins.astype(int)"
   ]
  },
  {
   "cell_type": "code",
   "execution_count": 6,
   "id": "eb31a968",
   "metadata": {},
   "outputs": [],
   "source": [
    "#extracting the hours\n",
    "hours = q4[\"DepTime\"].apply(lambda x: np.floor(x/100))\n",
    "hours = hours.astype(int)"
   ]
  },
  {
   "cell_type": "code",
   "execution_count": 7,
   "id": "0b98a6e9",
   "metadata": {},
   "outputs": [],
   "source": [
    "#extracting the days\n",
    "day = q4[\"DayofMonth\"].astype(str) \n",
    "day = day.apply(lambda x: \"{0:0>2}\".format(x))"
   ]
  },
  {
   "cell_type": "code",
   "execution_count": 8,
   "id": "43f7ba79",
   "metadata": {},
   "outputs": [],
   "source": [
    "#converting the month\n",
    "month = q4[\"Month\"].astype(str)\n",
    "month = q4[\"Month\"].apply(lambda x:\"{0:0>2}\".format(x))"
   ]
  },
  {
   "cell_type": "code",
   "execution_count": 9,
   "id": "1fc67110",
   "metadata": {},
   "outputs": [],
   "source": [
    "#converting to datetime format\n",
    "\n",
    "q4[\"Datetime\"] = pd.to_datetime(\n",
    "                  day + \"/\" + month + \"/\" + q4[\"Year\"].astype(str) + \",\"  +\n",
    "                  hours.astype(str) + \":\" + mins.astype(str), \n",
    "                  format = \"%d/%m/%Y,%H:%M\"\n",
    "                  )"
   ]
  },
  {
   "cell_type": "code",
   "execution_count": 9,
   "id": "ba11eaec",
   "metadata": {},
   "outputs": [
    {
     "data": {
      "text/html": [
       "<div>\n",
       "<style scoped>\n",
       "    .dataframe tbody tr th:only-of-type {\n",
       "        vertical-align: middle;\n",
       "    }\n",
       "\n",
       "    .dataframe tbody tr th {\n",
       "        vertical-align: top;\n",
       "    }\n",
       "\n",
       "    .dataframe thead th {\n",
       "        text-align: right;\n",
       "    }\n",
       "</style>\n",
       "<table border=\"1\" class=\"dataframe\">\n",
       "  <thead>\n",
       "    <tr style=\"text-align: right;\">\n",
       "      <th></th>\n",
       "      <th>Year</th>\n",
       "      <th>Month</th>\n",
       "      <th>DayofMonth</th>\n",
       "      <th>DayOfWeek</th>\n",
       "      <th>DepTime</th>\n",
       "      <th>TailNum</th>\n",
       "      <th>ArrDelay</th>\n",
       "      <th>Origin</th>\n",
       "      <th>Dest</th>\n",
       "      <th>LateAircraftDelay</th>\n",
       "      <th>Datetime</th>\n",
       "    </tr>\n",
       "  </thead>\n",
       "  <tbody>\n",
       "    <tr>\n",
       "      <th>0</th>\n",
       "      <td>2006</td>\n",
       "      <td>1</td>\n",
       "      <td>11</td>\n",
       "      <td>3</td>\n",
       "      <td>743.0</td>\n",
       "      <td>N657AW</td>\n",
       "      <td>6.0</td>\n",
       "      <td>ATL</td>\n",
       "      <td>PHX</td>\n",
       "      <td>0</td>\n",
       "      <td>2006-01-11 07:43:00</td>\n",
       "    </tr>\n",
       "    <tr>\n",
       "      <th>1</th>\n",
       "      <td>2006</td>\n",
       "      <td>1</td>\n",
       "      <td>11</td>\n",
       "      <td>3</td>\n",
       "      <td>1053.0</td>\n",
       "      <td>N834AW</td>\n",
       "      <td>-5.0</td>\n",
       "      <td>ATL</td>\n",
       "      <td>PHX</td>\n",
       "      <td>0</td>\n",
       "      <td>2006-01-11 10:53:00</td>\n",
       "    </tr>\n",
       "    <tr>\n",
       "      <th>2</th>\n",
       "      <td>2006</td>\n",
       "      <td>1</td>\n",
       "      <td>11</td>\n",
       "      <td>3</td>\n",
       "      <td>1915.0</td>\n",
       "      <td>N605AW</td>\n",
       "      <td>-23.0</td>\n",
       "      <td>ATL</td>\n",
       "      <td>PHX</td>\n",
       "      <td>0</td>\n",
       "      <td>2006-01-11 19:15:00</td>\n",
       "    </tr>\n",
       "    <tr>\n",
       "      <th>3</th>\n",
       "      <td>2006</td>\n",
       "      <td>1</td>\n",
       "      <td>11</td>\n",
       "      <td>3</td>\n",
       "      <td>1753.0</td>\n",
       "      <td>N312AW</td>\n",
       "      <td>-8.0</td>\n",
       "      <td>AUS</td>\n",
       "      <td>PHX</td>\n",
       "      <td>0</td>\n",
       "      <td>2006-01-11 17:53:00</td>\n",
       "    </tr>\n",
       "    <tr>\n",
       "      <th>4</th>\n",
       "      <td>2006</td>\n",
       "      <td>1</td>\n",
       "      <td>11</td>\n",
       "      <td>3</td>\n",
       "      <td>824.0</td>\n",
       "      <td>N309AW</td>\n",
       "      <td>0.0</td>\n",
       "      <td>AUS</td>\n",
       "      <td>PHX</td>\n",
       "      <td>0</td>\n",
       "      <td>2006-01-11 08:24:00</td>\n",
       "    </tr>\n",
       "  </tbody>\n",
       "</table>\n",
       "</div>"
      ],
      "text/plain": [
       "   Year  Month  DayofMonth  DayOfWeek  DepTime TailNum  ArrDelay Origin Dest  \\\n",
       "0  2006      1          11          3    743.0  N657AW       6.0    ATL  PHX   \n",
       "1  2006      1          11          3   1053.0  N834AW      -5.0    ATL  PHX   \n",
       "2  2006      1          11          3   1915.0  N605AW     -23.0    ATL  PHX   \n",
       "3  2006      1          11          3   1753.0  N312AW      -8.0    AUS  PHX   \n",
       "4  2006      1          11          3    824.0  N309AW       0.0    AUS  PHX   \n",
       "\n",
       "   LateAircraftDelay            Datetime  \n",
       "0                  0 2006-01-11 07:43:00  \n",
       "1                  0 2006-01-11 10:53:00  \n",
       "2                  0 2006-01-11 19:15:00  \n",
       "3                  0 2006-01-11 17:53:00  \n",
       "4                  0 2006-01-11 08:24:00  "
      ]
     },
     "execution_count": 9,
     "metadata": {},
     "output_type": "execute_result"
    }
   ],
   "source": [
    "q4.head()"
   ]
  },
  {
   "cell_type": "markdown",
   "id": "6d188b08",
   "metadata": {},
   "source": [
    "*Grouping and sorting the dataframe*"
   ]
  },
  {
   "cell_type": "code",
   "execution_count": 11,
   "id": "5e573f3a",
   "metadata": {},
   "outputs": [],
   "source": [
    "#grouping by tailnumber and sorting by datetime\n",
    "q4 = q4.sort_values([\"TailNum\", \"Datetime\"]).set_index(\"Datetime\")"
   ]
  },
  {
   "cell_type": "code",
   "execution_count": 12,
   "id": "7fbf8296",
   "metadata": {},
   "outputs": [],
   "source": [
    "#comparing the current delay with the next delay\n",
    "q4[\"Next_delay\"] = q4[\"ArrDelay\"].shift(-1)"
   ]
  },
  {
   "cell_type": "markdown",
   "id": "f817c5d9",
   "metadata": {},
   "source": [
    "*Plotting cascading delays*"
   ]
  },
  {
   "cell_type": "code",
   "execution_count": null,
   "id": "f22e0dfe",
   "metadata": {},
   "outputs": [],
   "source": [
    "sns.lmplot(data = q4, x = \"ArrDelay\", y = \"Next_delay\",\n",
    "          line_kws={'color': 'yellow'})\n",
    "\n",
    "plt.title(\"Cascading delays\")\n",
    "plt.xlabel(\"Current Delay\") \n",
    "plt.ylabel(\"Next Delay\")\n",
    "plt.savefig(\"Figures/Cascading delays.png\")\n",
    "plt.show()"
   ]
  },
  {
   "cell_type": "markdown",
   "id": "5e6643e2",
   "metadata": {},
   "source": [
    "*Checking the significance of the proportion of flights that have a cascading delay*"
   ]
  },
  {
   "cell_type": "code",
   "execution_count": 13,
   "id": "5df64696",
   "metadata": {},
   "outputs": [],
   "source": [
    "#encoding the arrival delay and next delay columns\n",
    "\n",
    "q4[\"HasCurrentDelay\"] = q4[\"ArrDelay\"].apply(lambda x: 1 if x>0 else 0)\n",
    "q4[\"HasNextDelay\"] = q4[\"Next_delay\"].apply(lambda x: 1 if x>0 else 0)"
   ]
  },
  {
   "cell_type": "code",
   "execution_count": 14,
   "id": "a57a7ff1",
   "metadata": {},
   "outputs": [
    {
     "data": {
      "text/html": [
       "<div>\n",
       "<style scoped>\n",
       "    .dataframe tbody tr th:only-of-type {\n",
       "        vertical-align: middle;\n",
       "    }\n",
       "\n",
       "    .dataframe tbody tr th {\n",
       "        vertical-align: top;\n",
       "    }\n",
       "\n",
       "    .dataframe thead th {\n",
       "        text-align: right;\n",
       "    }\n",
       "</style>\n",
       "<table border=\"1\" class=\"dataframe\">\n",
       "  <thead>\n",
       "    <tr style=\"text-align: right;\">\n",
       "      <th>Next Delay</th>\n",
       "      <th>0</th>\n",
       "      <th>1</th>\n",
       "    </tr>\n",
       "    <tr>\n",
       "      <th>Current Delay</th>\n",
       "      <th></th>\n",
       "      <th></th>\n",
       "    </tr>\n",
       "  </thead>\n",
       "  <tbody>\n",
       "    <tr>\n",
       "      <th>0</th>\n",
       "      <td>5096958</td>\n",
       "      <td>2529746</td>\n",
       "    </tr>\n",
       "    <tr>\n",
       "      <th>1</th>\n",
       "      <td>2529745</td>\n",
       "      <td>4112479</td>\n",
       "    </tr>\n",
       "  </tbody>\n",
       "</table>\n",
       "</div>"
      ],
      "text/plain": [
       "Next Delay           0        1\n",
       "Current Delay                  \n",
       "0              5096958  2529746\n",
       "1              2529745  4112479"
      ]
     },
     "execution_count": 14,
     "metadata": {},
     "output_type": "execute_result"
    }
   ],
   "source": [
    "#contingency table \n",
    "crosstab = pd.crosstab(q4[\"HasNextDelay\"], q4[\"HasCurrentDelay\"], rownames=[\"Current Delay\"], colnames=[\"Next Delay\"])\n",
    "crosstab "
   ]
  },
  {
   "cell_type": "code",
   "execution_count": 15,
   "id": "65cc1918",
   "metadata": {},
   "outputs": [
    {
     "data": {
      "text/html": [
       "<div>\n",
       "<style scoped>\n",
       "    .dataframe tbody tr th:only-of-type {\n",
       "        vertical-align: middle;\n",
       "    }\n",
       "\n",
       "    .dataframe tbody tr th {\n",
       "        vertical-align: top;\n",
       "    }\n",
       "\n",
       "    .dataframe thead th {\n",
       "        text-align: right;\n",
       "    }\n",
       "</style>\n",
       "<table border=\"1\" class=\"dataframe\">\n",
       "  <thead>\n",
       "    <tr style=\"text-align: right;\">\n",
       "      <th>HasNextDelay</th>\n",
       "      <th>0</th>\n",
       "      <th>1</th>\n",
       "    </tr>\n",
       "    <tr>\n",
       "      <th>HasCurrentDelay</th>\n",
       "      <th></th>\n",
       "      <th></th>\n",
       "    </tr>\n",
       "  </thead>\n",
       "  <tbody>\n",
       "    <tr>\n",
       "      <th>0</th>\n",
       "      <td>0.668304</td>\n",
       "      <td>0.380858</td>\n",
       "    </tr>\n",
       "    <tr>\n",
       "      <th>1</th>\n",
       "      <td>0.331696</td>\n",
       "      <td>0.619142</td>\n",
       "    </tr>\n",
       "  </tbody>\n",
       "</table>\n",
       "</div>"
      ],
      "text/plain": [
       "HasNextDelay            0         1\n",
       "HasCurrentDelay                    \n",
       "0                0.668304  0.380858\n",
       "1                0.331696  0.619142"
      ]
     },
     "execution_count": 15,
     "metadata": {},
     "output_type": "execute_result"
    }
   ],
   "source": [
    "pd.crosstab(q4[\"HasCurrentDelay\"],q4[\"HasNextDelay\"]).apply(lambda x:x/x.sum(),axis=0)"
   ]
  },
  {
   "cell_type": "code",
   "execution_count": null,
   "id": "d27a7097",
   "metadata": {},
   "outputs": [],
   "source": [
    "# it can be judged that there is a significant difference in the proportions of flights that have a cascaded effect.\n",
    "# if there was a delay in the current airport it is more likely that there will be a delay in the next airport as well\n",
    "# this is formally tested through the significance test below.\n"
   ]
  },
  {
   "cell_type": "markdown",
   "id": "845fd3f3",
   "metadata": {},
   "source": [
    "*Significance Test*"
   ]
  },
  {
   "cell_type": "code",
   "execution_count": null,
   "id": "8498eda5",
   "metadata": {},
   "outputs": [],
   "source": [
    "#performing a chi squared test to check the significance of the relationship between current delays and next delays"
   ]
  },
  {
   "cell_type": "code",
   "execution_count": 37,
   "id": "4b14f79b",
   "metadata": {},
   "outputs": [
    {
     "name": "stdout",
     "output_type": "stream",
     "text": [
      "Defining the hypothesis\n",
      "H0: There is no association between the Current delays and the Next delays\n",
      "H1: There is a association between the Current delays and the Next delays\n"
     ]
    }
   ],
   "source": [
    "print(\"Defining the hypothesis\")\n",
    "\n",
    "print(\"H0: There is no association between the Current delays and the Next delays\") \n",
    "print(\"H1: There is a association between the Current delays and the Next delays\")\n"
   ]
  },
  {
   "cell_type": "code",
   "execution_count": 21,
   "id": "98393dbe",
   "metadata": {},
   "outputs": [
    {
     "name": "stdout",
     "output_type": "stream",
     "text": [
      "Degree of freedom:  1\n",
      "[[4076452.43405195 3550251.56594805]\n",
      " [3550250.56594805 3091973.43405195]]\n"
     ]
    }
   ],
   "source": [
    "stat, p, dof, expected = chi2_contingency(crosstab)\n",
    "print(\"Degree of freedom: \", dof)\n",
    "print(expected)"
   ]
  },
  {
   "cell_type": "code",
   "execution_count": 28,
   "id": "2dee63af",
   "metadata": {},
   "outputs": [
    {
     "name": "stdout",
     "output_type": "stream",
     "text": [
      "Reject H0 - There is a significant relationship\n"
     ]
    }
   ],
   "source": [
    "#interpret the results\n",
    "#testing at a 5% significance level\n",
    "prob = 0.95\n",
    "critical = stats.chi2.ppf(prob, dof)\n",
    "if abs(stat) >= critical:\n",
    "    print(\"Reject H0 - There is a significant relationship\")\n",
    "else:\n",
    "    print(\"Fail to reject H0 - There is no significant relationship\")"
   ]
  },
  {
   "cell_type": "markdown",
   "id": "deb17323",
   "metadata": {},
   "source": [
    "Thus it can be formally concluded that delays at the current airport have a significant relationship with the delays in the\n",
    "next airport indicating cascading delayed effects. "
   ]
  },
  {
   "cell_type": "code",
   "execution_count": null,
   "id": "aad37a60",
   "metadata": {},
   "outputs": [],
   "source": []
  }
 ],
 "metadata": {
  "kernelspec": {
   "display_name": "Python 3",
   "language": "python",
   "name": "python3"
  },
  "language_info": {
   "codemirror_mode": {
    "name": "ipython",
    "version": 3
   },
   "file_extension": ".py",
   "mimetype": "text/x-python",
   "name": "python",
   "nbconvert_exporter": "python",
   "pygments_lexer": "ipython3",
   "version": "3.8.8"
  }
 },
 "nbformat": 4,
 "nbformat_minor": 5
}

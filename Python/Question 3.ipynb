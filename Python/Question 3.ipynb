{
 "cells": [
  {
   "cell_type": "code",
   "execution_count": 1,
   "id": "fce8d5fa",
   "metadata": {},
   "outputs": [],
   "source": [
    "import pandas as pd\n",
    "import numpy as np\n",
    "import matplotlib.pyplot as plt\n",
    "import seaborn as sns"
   ]
  },
  {
   "cell_type": "code",
   "execution_count": 3,
   "id": "ddbf5f93",
   "metadata": {},
   "outputs": [],
   "source": [
    "#import dataset\n",
    "df = pd.read_csv(\"Dataset/cleaned_dataset.csv\")\n",
    "airports = pd.read_csv(\"Dataset/airports.csv\")"
   ]
  },
  {
   "cell_type": "code",
   "execution_count": 4,
   "id": "9c68a113",
   "metadata": {
    "scrolled": false
   },
   "outputs": [
    {
     "data": {
      "text/html": [
       "<div>\n",
       "<style scoped>\n",
       "    .dataframe tbody tr th:only-of-type {\n",
       "        vertical-align: middle;\n",
       "    }\n",
       "\n",
       "    .dataframe tbody tr th {\n",
       "        vertical-align: top;\n",
       "    }\n",
       "\n",
       "    .dataframe thead th {\n",
       "        text-align: right;\n",
       "    }\n",
       "</style>\n",
       "<table border=\"1\" class=\"dataframe\">\n",
       "  <thead>\n",
       "    <tr style=\"text-align: right;\">\n",
       "      <th></th>\n",
       "      <th>iata</th>\n",
       "      <th>airport</th>\n",
       "      <th>city</th>\n",
       "      <th>state</th>\n",
       "      <th>country</th>\n",
       "      <th>lat</th>\n",
       "      <th>long</th>\n",
       "    </tr>\n",
       "  </thead>\n",
       "  <tbody>\n",
       "    <tr>\n",
       "      <th>0</th>\n",
       "      <td>00M</td>\n",
       "      <td>Thigpen</td>\n",
       "      <td>Bay Springs</td>\n",
       "      <td>MS</td>\n",
       "      <td>USA</td>\n",
       "      <td>31.953765</td>\n",
       "      <td>-89.234505</td>\n",
       "    </tr>\n",
       "    <tr>\n",
       "      <th>1</th>\n",
       "      <td>00R</td>\n",
       "      <td>Livingston Municipal</td>\n",
       "      <td>Livingston</td>\n",
       "      <td>TX</td>\n",
       "      <td>USA</td>\n",
       "      <td>30.685861</td>\n",
       "      <td>-95.017928</td>\n",
       "    </tr>\n",
       "    <tr>\n",
       "      <th>2</th>\n",
       "      <td>00V</td>\n",
       "      <td>Meadow Lake</td>\n",
       "      <td>Colorado Springs</td>\n",
       "      <td>CO</td>\n",
       "      <td>USA</td>\n",
       "      <td>38.945749</td>\n",
       "      <td>-104.569893</td>\n",
       "    </tr>\n",
       "    <tr>\n",
       "      <th>3</th>\n",
       "      <td>01G</td>\n",
       "      <td>Perry-Warsaw</td>\n",
       "      <td>Perry</td>\n",
       "      <td>NY</td>\n",
       "      <td>USA</td>\n",
       "      <td>42.741347</td>\n",
       "      <td>-78.052081</td>\n",
       "    </tr>\n",
       "    <tr>\n",
       "      <th>4</th>\n",
       "      <td>01J</td>\n",
       "      <td>Hilliard Airpark</td>\n",
       "      <td>Hilliard</td>\n",
       "      <td>FL</td>\n",
       "      <td>USA</td>\n",
       "      <td>30.688012</td>\n",
       "      <td>-81.905944</td>\n",
       "    </tr>\n",
       "  </tbody>\n",
       "</table>\n",
       "</div>"
      ],
      "text/plain": [
       "  iata               airport              city state country        lat  \\\n",
       "0  00M              Thigpen        Bay Springs    MS     USA  31.953765   \n",
       "1  00R  Livingston Municipal        Livingston    TX     USA  30.685861   \n",
       "2  00V           Meadow Lake  Colorado Springs    CO     USA  38.945749   \n",
       "3  01G          Perry-Warsaw             Perry    NY     USA  42.741347   \n",
       "4  01J      Hilliard Airpark          Hilliard    FL     USA  30.688012   \n",
       "\n",
       "         long  \n",
       "0  -89.234505  \n",
       "1  -95.017928  \n",
       "2 -104.569893  \n",
       "3  -78.052081  \n",
       "4  -81.905944  "
      ]
     },
     "execution_count": 4,
     "metadata": {},
     "output_type": "execute_result"
    }
   ],
   "source": [
    "airports.head()"
   ]
  },
  {
   "cell_type": "code",
   "execution_count": 4,
   "id": "69fb6b09",
   "metadata": {},
   "outputs": [],
   "source": [
    "airports = airports.loc[:, [\"iata\", \"state\"]]\n",
    "q3 = df.loc[:, [\"Origin\", \"Dest\", \"Year\", \"Month\"]]\n",
    "\n",
    "airports.rename({\"iata\":\"Origin\"}, axis = 1, inplace = True)"
   ]
  },
  {
   "cell_type": "code",
   "execution_count": 5,
   "id": "25ee51ba",
   "metadata": {},
   "outputs": [],
   "source": [
    "#merging the q3 and airports data frames based on state\n",
    "q3 = pd.merge(q3, airports, on = \"Origin\", how = \"inner\")\n",
    "\n",
    "q3.dropna(inplace = True)"
   ]
  },
  {
   "cell_type": "code",
   "execution_count": null,
   "id": "45d12a04",
   "metadata": {},
   "outputs": [],
   "source": [
    "#changing the data types\n",
    "q3[\"Year\"] = q3[\"Year\"].astype(str)\n",
    "q3[\"Month\"] = q3[\"Month\"].astype(str)"
   ]
  },
  {
   "cell_type": "code",
   "execution_count": null,
   "id": "26c16ff7",
   "metadata": {},
   "outputs": [],
   "source": [
    "#inserting leading zeros in the month column to convert to datetime\n",
    "q3[\"Month\"] = q3[\"Month\"].apply(lambda x: str(x).zfill(2) if len(x)==1 else x)\n",
    "\n",
    "\n",
    "#converting to datetime \n",
    "q3[\"Yearmonth\"] = pd.to_datetime(q3[\"Month\"].astype(str) + \"/\" + q3[\"Year\"].astype(str),\n",
    "                                format = \"%m/%Y\")\n",
    "\n",
    "#change the datetime format\n",
    "q3[\"Yearmonth\"] = q3['Yearmonth'].dt.to_period('M')"
   ]
  },
  {
   "cell_type": "code",
   "execution_count": null,
   "id": "89894f23",
   "metadata": {},
   "outputs": [],
   "source": [
    "#group the data according to the Year-Month\n",
    "group = q3.groupby(\"Yearmonth\").size().reset_index().rename({0:\"Count\"}, axis = 1)"
   ]
  },
  {
   "cell_type": "code",
   "execution_count": null,
   "id": "57cd816f",
   "metadata": {},
   "outputs": [],
   "source": [
    "#plot a time series graph to show seasonality\n",
    "\n",
    "fig, ax = plt.subplots(figsize=(8, 6))\n",
    "ax.plot(group[\"Yearmonth\"].astype(str), group[\"Count\"])\n",
    "\n",
    "ax.set_xlabel(\"Year - Month\", \n",
    "             size = 13)\n",
    "ax.set_ylabel(\"Number of flights\",\n",
    "             size = 13)\n",
    "\n",
    "ax.set_title(\"The trend of the number of people over time\",\n",
    "            size = 15)\n",
    "\n",
    "ax.tick_params(\"x\", rotation = 75, labelsize = 13)\n",
    "ax.tick_params(\"y\", labelsize=13)\n",
    "\n",
    "ax.spines[\"right\"].set_visible(False)\n",
    "ax.spines[\"top\"].set_visible(False)\n",
    "\n",
    "\n",
    "#plt.savefig(\"Figures/Time series trend of number of flights.png\")\n",
    "plt.show()"
   ]
  },
  {
   "cell_type": "code",
   "execution_count": null,
   "id": "51a95009",
   "metadata": {},
   "outputs": [],
   "source": []
  },
  {
   "cell_type": "code",
   "execution_count": null,
   "id": "476bf3ed",
   "metadata": {},
   "outputs": [],
   "source": [
    "group2 = q3.groupby([\"Year\", \"Month\"]).size().reset_index().rename({0:\"Count\"}, axis = 1)"
   ]
  },
  {
   "cell_type": "code",
   "execution_count": null,
   "id": "28d7e551",
   "metadata": {},
   "outputs": [],
   "source": [
    "# Line plot for change between years\n",
    "fig, ax = plt.subplots(1, 1, figsize = (8, 8))\n",
    "\n",
    "sns.lineplot(x= \"Month\", y = \"Count\", data = group2, \n",
    "           palette = \"Set2\", hue = \"Year\")\n",
    "\n",
    "ax.set_ylabel(\"Count\",\n",
    "               size = 15)\n",
    "\n",
    "ax.set_xlabel(\"Month\",\n",
    "                 size = 15)\n",
    "\n",
    "ax.set_title(\"Change in the number of flights between years\",\n",
    "                size = 18)\n",
    "\n",
    "ax.tick_params(axis='y', labelsize=13)\n",
    "ax.tick_params(axis='x', labelsize=13)\n",
    "\n",
    "ax.spines[\"right\"].set_visible(False)\n",
    "ax.spines[\"top\"].set_visible(False)\n",
    "\n",
    "plt.savefig(\"Figures/Change in number of flights over years.png\")\n",
    "plt.show()\n"
   ]
  },
  {
   "cell_type": "code",
   "execution_count": null,
   "id": "216742ad",
   "metadata": {},
   "outputs": [],
   "source": []
  },
  {
   "cell_type": "markdown",
   "id": "7173965e",
   "metadata": {},
   "source": [
    "*location wise analysis*"
   ]
  },
  {
   "cell_type": "code",
   "execution_count": 8,
   "id": "f4c7e753",
   "metadata": {},
   "outputs": [],
   "source": [
    "#top 10 states\n",
    "top_states = q3.groupby(\"state\").size().sort_values(ascending = False).head(10).index"
   ]
  },
  {
   "cell_type": "code",
   "execution_count": 9,
   "id": "17fa615b",
   "metadata": {},
   "outputs": [],
   "source": [
    "#filter only for the top 10 states\n",
    "top_10 = q3[q3[\"state\"].isin (top_states)]"
   ]
  },
  {
   "cell_type": "code",
   "execution_count": 10,
   "id": "3e26c543",
   "metadata": {},
   "outputs": [],
   "source": [
    "top_10 = top_10.groupby([\"state\", \"Year\", \"Month\"]).size().reset_index()\n",
    "top_10.rename({0: \"Count\"}, axis = 1, inplace = True)"
   ]
  },
  {
   "cell_type": "code",
   "execution_count": 95,
   "id": "177af73b",
   "metadata": {},
   "outputs": [
    {
     "data": {
      "text/html": [
       "<div>\n",
       "<style scoped>\n",
       "    .dataframe tbody tr th:only-of-type {\n",
       "        vertical-align: middle;\n",
       "    }\n",
       "\n",
       "    .dataframe tbody tr th {\n",
       "        vertical-align: top;\n",
       "    }\n",
       "\n",
       "    .dataframe thead th {\n",
       "        text-align: right;\n",
       "    }\n",
       "</style>\n",
       "<table border=\"1\" class=\"dataframe\">\n",
       "  <thead>\n",
       "    <tr style=\"text-align: right;\">\n",
       "      <th></th>\n",
       "      <th>state</th>\n",
       "      <th>Year</th>\n",
       "      <th>Month</th>\n",
       "      <th>Count</th>\n",
       "    </tr>\n",
       "  </thead>\n",
       "  <tbody>\n",
       "    <tr>\n",
       "      <th>0</th>\n",
       "      <td>AZ</td>\n",
       "      <td>2006</td>\n",
       "      <td>1</td>\n",
       "      <td>20441</td>\n",
       "    </tr>\n",
       "    <tr>\n",
       "      <th>1</th>\n",
       "      <td>AZ</td>\n",
       "      <td>2006</td>\n",
       "      <td>2</td>\n",
       "      <td>18501</td>\n",
       "    </tr>\n",
       "    <tr>\n",
       "      <th>2</th>\n",
       "      <td>AZ</td>\n",
       "      <td>2006</td>\n",
       "      <td>3</td>\n",
       "      <td>20951</td>\n",
       "    </tr>\n",
       "    <tr>\n",
       "      <th>3</th>\n",
       "      <td>AZ</td>\n",
       "      <td>2006</td>\n",
       "      <td>4</td>\n",
       "      <td>19973</td>\n",
       "    </tr>\n",
       "    <tr>\n",
       "      <th>4</th>\n",
       "      <td>AZ</td>\n",
       "      <td>2006</td>\n",
       "      <td>5</td>\n",
       "      <td>20512</td>\n",
       "    </tr>\n",
       "    <tr>\n",
       "      <th>...</th>\n",
       "      <td>...</td>\n",
       "      <td>...</td>\n",
       "      <td>...</td>\n",
       "      <td>...</td>\n",
       "    </tr>\n",
       "    <tr>\n",
       "      <th>235</th>\n",
       "      <td>VA</td>\n",
       "      <td>2007</td>\n",
       "      <td>8</td>\n",
       "      <td>18773</td>\n",
       "    </tr>\n",
       "    <tr>\n",
       "      <th>236</th>\n",
       "      <td>VA</td>\n",
       "      <td>2007</td>\n",
       "      <td>9</td>\n",
       "      <td>17682</td>\n",
       "    </tr>\n",
       "    <tr>\n",
       "      <th>237</th>\n",
       "      <td>VA</td>\n",
       "      <td>2007</td>\n",
       "      <td>10</td>\n",
       "      <td>18518</td>\n",
       "    </tr>\n",
       "    <tr>\n",
       "      <th>238</th>\n",
       "      <td>VA</td>\n",
       "      <td>2007</td>\n",
       "      <td>11</td>\n",
       "      <td>17921</td>\n",
       "    </tr>\n",
       "    <tr>\n",
       "      <th>239</th>\n",
       "      <td>VA</td>\n",
       "      <td>2007</td>\n",
       "      <td>12</td>\n",
       "      <td>17280</td>\n",
       "    </tr>\n",
       "  </tbody>\n",
       "</table>\n",
       "<p>240 rows × 4 columns</p>\n",
       "</div>"
      ],
      "text/plain": [
       "    state  Year  Month  Count\n",
       "0      AZ  2006      1  20441\n",
       "1      AZ  2006      2  18501\n",
       "2      AZ  2006      3  20951\n",
       "3      AZ  2006      4  19973\n",
       "4      AZ  2006      5  20512\n",
       "..    ...   ...    ...    ...\n",
       "235    VA  2007      8  18773\n",
       "236    VA  2007      9  17682\n",
       "237    VA  2007     10  18518\n",
       "238    VA  2007     11  17921\n",
       "239    VA  2007     12  17280\n",
       "\n",
       "[240 rows x 4 columns]"
      ]
     },
     "execution_count": 95,
     "metadata": {},
     "output_type": "execute_result"
    }
   ],
   "source": [
    "top_10"
   ]
  },
  {
   "cell_type": "code",
   "execution_count": 172,
   "id": "bdd5c85f",
   "metadata": {},
   "outputs": [
    {
     "data": {
      "image/png": "[encoded data removed]",
      "text/plain": [
       "<Figure size 781.5x360 with 1 Axes>"
      ]
     },
     "metadata": {
      "needs_background": "light"
     },
     "output_type": "display_data"
    }
   ],
   "source": [
    "# Side by side yearly chart for the top 10 states \n",
    "\n",
    "\n",
    "side = sns.catplot(data = top_10, x = \"state\", y = \"Count\", \n",
    "            hue = \"Year\", palette = \"Set2\", kind = \"bar\", aspect = 2, height = 5)\n",
    "\n",
    "plt.xlabel(\"State\", size = 15)\n",
    "plt.ylabel(\"Number of Flights\", size = 15)\n",
    "\n",
    "plt.xticks(fontsize = 13)\n",
    "plt.yticks(fontsize = 13)\n",
    "\n",
    "plt.title(\"Number of Flights over time by States\", size = 18)\n",
    "\n",
    "plt.savefig(\"Figures/Change in number of flights over time by states.png\")\n",
    "plt.show()\n"
   ]
  },
  {
   "cell_type": "code",
   "execution_count": null,
   "id": "6edf33c9",
   "metadata": {},
   "outputs": [],
   "source": []
  },
  {
   "cell_type": "code",
   "execution_count": null,
   "id": "302ef7f0",
   "metadata": {},
   "outputs": [],
   "source": []
  }
 ],
 "metadata": {
  "kernelspec": {
   "display_name": "Python 3",
   "language": "python",
   "name": "python3"
  },
  "language_info": {
   "codemirror_mode": {
    "name": "ipython",
    "version": 3
   },
   "file_extension": ".py",
   "mimetype": "text/x-python",
   "name": "python",
   "nbconvert_exporter": "python",
   "pygments_lexer": "ipython3",
   "version": "3.8.8"
  }
 },
 "nbformat": 4,
 "nbformat_minor": 5
}
